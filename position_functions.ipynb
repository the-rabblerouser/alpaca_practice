{
 "cells": [
  {
   "cell_type": "code",
   "execution_count": 1,
   "id": "c07297c6-d4f9-41be-88a3-e27d8f635e67",
   "metadata": {},
   "outputs": [],
   "source": [
    "import requests\n",
    "import os \n",
    "import json\n",
    "import pandas as pd\n",
    "import matplotlib.pyplot as plt\n",
    "import time"
   ]
  },
  {
   "cell_type": "code",
   "execution_count": 2,
   "id": "a04b0b55-93e6-41d4-a8d2-0901f44f5672",
   "metadata": {},
   "outputs": [],
   "source": [
    "# Load apikey data\n",
    "\n",
    "os.chdir('/Users/joemccann/MLProjects/alpaca_practice')\n",
    "api_keys = json.load(open('apikey.json', 'r'))"
   ]
  },
  {
   "cell_type": "code",
   "execution_count": null,
   "id": "0de4924a-25e5-49d2-9ea6-1ad14b35495f",
   "metadata": {},
   "outputs": [],
   "source": [
    "def get_all_open_positions():\n",
    "    url = \"https://paper-api.alpaca.markets/v2/positions\"\n",
    "\n",
    "    headers = {\n",
    "        \"accept\": \"application/json\",\n",
    "        \"APCA-API-KEY-ID\": api_keys['APCA-API-KEY-ID'],\n",
    "        \"APCA-API-SECRET-KEY\":  api_keys['APCA-API-SECRET-KEY']\n",
    "    }\n",
    "    \n",
    "    response = requests.get(url, headers=headers)\n",
    "\n",
    "    open_positions = json.loads(response.text)\n",
    "    \n",
    "    return open_positions\n",
    "\n",
    "def close_all_open(cancel_orders=True):\n",
    "    url = \"https://paper-api.alpaca.markets/v2/positions?cancel_orders={}\".format(cancel_orders)\n",
    "\n",
    "    headers = {\n",
    "        \"accept\": \"application/json\",\n",
    "        \"APCA-API-KEY-ID\": api_keys['APCA-API-KEY-ID'],\n",
    "        \"APCA-API-SECRET-KEY\":  api_keys['APCA-API-SECRET-KEY']\n",
    "    }\n",
    "    \n",
    "    response = requests.delete(url, headers=headers)\n",
    "    \n",
    "    return response.text\n",
    "\n",
    "def get_position_by_id(symbol_or_asset_id):\n",
    "    url = \"https://paper-api.alpaca.markets/v2/orders/{}\".format(symbol_or_asset_id)\n",
    "\n",
    "    headers = {\n",
    "        \"accept\": \"application/json\",\n",
    "        \"APCA-API-KEY-ID\": api_keys['APCA-API-KEY-ID'],\n",
    "        \"APCA-API-SECRET-KEY\":  api_keys['APCA-API-SECRET-KEY']\n",
    "    }\n",
    "    \n",
    "    response = requests.get(url, headers=headers)\n",
    "\n",
    "    position = json.loads(response.text)\n",
    "    \n",
    "    return position\n",
    "\n",
    "def delete_order_by_id(symbol_or_asset_id, qty: int, percentage: int):\n",
    "    url = \"https://paper-api.alpaca.markets/v2/positions/{}?qty={}&percentage={}\".format(symbol_or_asset_id, qty, percentage)\n",
    "\n",
    "    headers = {\n",
    "        \"accept\": \"application/json\",\n",
    "        \"APCA-API-KEY-ID\": api_keys['APCA-API-KEY-ID'],\n",
    "        \"APCA-API-SECRET-KEY\":  api_keys['APCA-API-SECRET-KEY']\n",
    "    }\n",
    "    \n",
    "    response = requests.delete(url, headers=headers)\n",
    "    \n",
    "    return response.text"
   ]
  }
 ],
 "metadata": {
  "kernelspec": {
   "display_name": "Python 3 (ipykernel)",
   "language": "python",
   "name": "python3"
  },
  "language_info": {
   "codemirror_mode": {
    "name": "ipython",
    "version": 3
   },
   "file_extension": ".py",
   "mimetype": "text/x-python",
   "name": "python",
   "nbconvert_exporter": "python",
   "pygments_lexer": "ipython3",
   "version": "3.9.6"
  }
 },
 "nbformat": 4,
 "nbformat_minor": 5
}
