{
 "cells": [
  {
   "cell_type": "code",
   "execution_count": 1,
   "id": "46a16cc8-3e56-4afa-a889-6ab7cd78d4c0",
   "metadata": {},
   "outputs": [],
   "source": [
    "import requests\n",
    "import os \n",
    "import json\n",
    "import pandas as pd\n",
    "import matplotlib.pyplot as plt"
   ]
  },
  {
   "cell_type": "code",
   "execution_count": null,
   "id": "46dfc0e8-f462-4eb6-8459-c54a211478b7",
   "metadata": {},
   "outputs": [],
   "source": [
    "def get_bar_data(api_keys, url, symbols, start='', end='', limit=1000, timeframe='1Day'):\n",
    "    headers = {\n",
    "        \"accept\": \"application/json\",\n",
    "        \"APCA-API-KEY-ID\": api_keys['APCA-API-KEY-ID'],\n",
    "        \"APCA-API-SECRET-KEY\":  api_keys['APCA-API-SECRET-KEY']\n",
    "    }\n",
    "    \n",
    "    params = {'symbols': symbols, \n",
    "          'timeframe':timeframe, \n",
    "          'start':start, \n",
    "          'end': end,\n",
    "          'limit': limit}\n",
    "\n",
    "    response = requests.get(url, headers=headers, params=params)\n",
    "\n",
    "    data = response.json()\n",
    "\n",
    "    df = pd.DataFrame(data['bars'][symbols])\n",
    "    df.columns = ['close', 'high', 'low', 'trade_count', 'open', 'time', 'volume', 'volume_weighted_avg']\n",
    "    df['time'] = pd.to_datetime(df['time'])\n",
    "    df.set_index('time',inplace=True)\n",
    "    df = df[['open', 'close', 'high', 'low', 'trade_count', 'volume', 'volume_weighted_avg']]\n",
    "\n",
    "    return df"
   ]
  },
  {
   "cell_type": "code",
   "execution_count": 2,
   "id": "a839cecc-722e-4af8-b115-7304e570b803",
   "metadata": {},
   "outputs": [],
   "source": [
    "os.chdir('/Users/joemccann/MLProjects/alpaca_practice')\n",
    "\n",
    "api_keys = json.load(open('apikey.json', 'r'))\n",
    "url = \"https://data.alpaca.markets/v2/stocks/bars?\"\n",
    "symbols = 'TSLA'\n",
    "start = '2020-01-10'\n",
    "end =  '2024-01-10'"
   ]
  },
  {
   "cell_type": "code",
   "execution_count": null,
   "id": "dad3b070-5c54-49bd-ac85-ede4233b5f30",
   "metadata": {},
   "outputs": [],
   "source": [
    "df = get_bar_data(api_keys, url, symbols, start, end)"
   ]
  },
  {
   "cell_type": "code",
   "execution_count": null,
   "id": "562c916e-c0f5-4937-8ca7-62d16921c70f",
   "metadata": {},
   "outputs": [],
   "source": [
    "df"
   ]
  },
  {
   "cell_type": "code",
   "execution_count": null,
   "id": "e207b6ba-ccbf-40f7-87f2-d8156ccfcafd",
   "metadata": {},
   "outputs": [],
   "source": [
    "#Last Trade"
   ]
  },
  {
   "cell_type": "code",
   "execution_count": 3,
   "id": "89f0538c-b7c6-4d07-929f-2bb2a8f47a86",
   "metadata": {},
   "outputs": [],
   "source": [
    "last_url = \"https://data.alpaca.markets/v2/stocks/bars/latest?\"\n",
    "last_symbol = 'TSLA'"
   ]
  },
  {
   "cell_type": "code",
   "execution_count": 4,
   "id": "47d6dce2-e1e9-4fcc-b855-bd7f44bd333a",
   "metadata": {},
   "outputs": [],
   "source": [
    "def get_last_bar(url, symbol):\n",
    "    headers = {\n",
    "            \"accept\": \"application/json\",\n",
    "            \"APCA-API-KEY-ID\": api_keys['APCA-API-KEY-ID'],\n",
    "            \"APCA-API-SECRET-KEY\":  api_keys['APCA-API-SECRET-KEY']\n",
    "        }\n",
    "        \n",
    "    params = {'symbols': symbol}\n",
    "    \n",
    "    response = requests.get(last_url, headers=headers, params=params)\n",
    "    \n",
    "    data = response.json()\n",
    "\n",
    "    last_bar_df = pd.DataFrame(data['bars']).T\n",
    "    last_bar_df.columns = ['close', 'high', 'low', 'trade_count', 'open', 'time', 'volume', 'volume_weighted_avg']\n",
    "\n",
    "    return last_bar_df"
   ]
  },
  {
   "cell_type": "code",
   "execution_count": 17,
   "id": "0d004682-e2f0-48e7-b12b-9ccb93c554e7",
   "metadata": {},
   "outputs": [
    {
     "data": {
      "text/plain": [
       "{'TSLA': {'c': 217.98,\n",
       "  'h': 217.98,\n",
       "  'l': 217.98,\n",
       "  'n': 1,\n",
       "  'o': 217.98,\n",
       "  't': '2024-01-12T21:21:00Z',\n",
       "  'v': 100,\n",
       "  'vw': 217.98}}"
      ]
     },
     "execution_count": 17,
     "metadata": {},
     "output_type": "execute_result"
    }
   ],
   "source": [
    " headers = {\n",
    "            \"accept\": \"application/json\",\n",
    "            \"APCA-API-KEY-ID\": api_keys['APCA-API-KEY-ID'],\n",
    "            \"APCA-API-SECRET-KEY\":  api_keys['APCA-API-SECRET-KEY']\n",
    "        }\n",
    "        \n",
    "params = {'symbols': last_symbol}\n",
    "\n",
    "response = requests.get(last_url, headers=headers, params=params)\n",
    "\n",
    "data = response.json()\n",
    "\n",
    "data['bars']"
   ]
  },
  {
   "cell_type": "code",
   "execution_count": 10,
   "id": "b32c7451-9891-4bbb-a149-5eb4504afcc5",
   "metadata": {},
   "outputs": [],
   "source": [
    "df = get_last_bar(last_url, last_symbol)"
   ]
  },
  {
   "cell_type": "code",
   "execution_count": 11,
   "id": "1606f5bc-25a4-4455-a184-7efe4ea8bd3a",
   "metadata": {},
   "outputs": [
    {
     "data": {
      "text/plain": [
       "Index(['TSLA'], dtype='object')"
      ]
     },
     "execution_count": 11,
     "metadata": {},
     "output_type": "execute_result"
    }
   ],
   "source": [
    "df.index"
   ]
  },
  {
   "cell_type": "code",
   "execution_count": 6,
   "id": "0cb3f785-7679-43d6-a14e-2f5dc8eb06f3",
   "metadata": {},
   "outputs": [],
   "source": [
    "stocks = ['AMZN', 'TSLA', 'AAPL']\n",
    "\n",
    "list_of_dfs = []\n",
    "\n",
    "for stock in stocks: \n",
    "    df = get_last_bar(last_url, stock)\n",
    "\n",
    "    list_of_dfs.append(df)\n",
    "\n",
    "combined_df = pd.concat(list_of_dfs, ignore_index=True)"
   ]
  },
  {
   "cell_type": "code",
   "execution_count": 7,
   "id": "4bf94568-6aac-4f0b-82ca-ae38c5faf629",
   "metadata": {},
   "outputs": [
    {
     "data": {
      "text/html": [
       "<div>\n",
       "<style scoped>\n",
       "    .dataframe tbody tr th:only-of-type {\n",
       "        vertical-align: middle;\n",
       "    }\n",
       "\n",
       "    .dataframe tbody tr th {\n",
       "        vertical-align: top;\n",
       "    }\n",
       "\n",
       "    .dataframe thead th {\n",
       "        text-align: right;\n",
       "    }\n",
       "</style>\n",
       "<table border=\"1\" class=\"dataframe\">\n",
       "  <thead>\n",
       "    <tr style=\"text-align: right;\">\n",
       "      <th></th>\n",
       "      <th>close</th>\n",
       "      <th>high</th>\n",
       "      <th>low</th>\n",
       "      <th>trade_count</th>\n",
       "      <th>open</th>\n",
       "      <th>time</th>\n",
       "      <th>volume</th>\n",
       "      <th>volume_weighted_avg</th>\n",
       "    </tr>\n",
       "  </thead>\n",
       "  <tbody>\n",
       "    <tr>\n",
       "      <th>0</th>\n",
       "      <td>154.6</td>\n",
       "      <td>154.645</td>\n",
       "      <td>154.46</td>\n",
       "      <td>187</td>\n",
       "      <td>154.59</td>\n",
       "      <td>2024-01-12T20:59:00Z</td>\n",
       "      <td>19449</td>\n",
       "      <td>154.558886</td>\n",
       "    </tr>\n",
       "    <tr>\n",
       "      <th>1</th>\n",
       "      <td>217.98</td>\n",
       "      <td>217.98</td>\n",
       "      <td>217.98</td>\n",
       "      <td>1</td>\n",
       "      <td>217.98</td>\n",
       "      <td>2024-01-12T21:21:00Z</td>\n",
       "      <td>100</td>\n",
       "      <td>217.98</td>\n",
       "    </tr>\n",
       "    <tr>\n",
       "      <th>2</th>\n",
       "      <td>185.83</td>\n",
       "      <td>185.975</td>\n",
       "      <td>185.72</td>\n",
       "      <td>260</td>\n",
       "      <td>185.96</td>\n",
       "      <td>2024-01-12T20:59:00Z</td>\n",
       "      <td>22286</td>\n",
       "      <td>185.82078</td>\n",
       "    </tr>\n",
       "  </tbody>\n",
       "</table>\n",
       "</div>"
      ],
      "text/plain": [
       "    close     high     low trade_count    open                  time volume  \\\n",
       "0   154.6  154.645  154.46         187  154.59  2024-01-12T20:59:00Z  19449   \n",
       "1  217.98   217.98  217.98           1  217.98  2024-01-12T21:21:00Z    100   \n",
       "2  185.83  185.975  185.72         260  185.96  2024-01-12T20:59:00Z  22286   \n",
       "\n",
       "  volume_weighted_avg  \n",
       "0          154.558886  \n",
       "1              217.98  \n",
       "2           185.82078  "
      ]
     },
     "execution_count": 7,
     "metadata": {},
     "output_type": "execute_result"
    }
   ],
   "source": [
    "combined_df"
   ]
  },
  {
   "cell_type": "code",
   "execution_count": null,
   "id": "c40cee2d-e7ba-4244-a8fd-bc11e87c9e13",
   "metadata": {},
   "outputs": [],
   "source": []
  }
 ],
 "metadata": {
  "kernelspec": {
   "display_name": "Python 3 (ipykernel)",
   "language": "python",
   "name": "python3"
  },
  "language_info": {
   "codemirror_mode": {
    "name": "ipython",
    "version": 3
   },
   "file_extension": ".py",
   "mimetype": "text/x-python",
   "name": "python",
   "nbconvert_exporter": "python",
   "pygments_lexer": "ipython3",
   "version": "3.9.6"
  }
 },
 "nbformat": 4,
 "nbformat_minor": 5
}
