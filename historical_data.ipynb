{
 "cells": [
  {
   "cell_type": "code",
   "execution_count": null,
   "id": "46a16cc8-3e56-4afa-a889-6ab7cd78d4c0",
   "metadata": {},
   "outputs": [],
   "source": [
    "import requests\n",
    "import os \n",
    "import json\n",
    "import pandas as pd\n",
    "import matplotlib.pyplot as plt\n",
    "import time"
   ]
  },
  {
   "cell_type": "code",
   "execution_count": null,
   "id": "3c14d412-182c-4ec6-a105-8e7d736079b5",
   "metadata": {},
   "outputs": [],
   "source": [
    "# Load apikey data\n",
    "\n",
    "os.chdir('/Users/joemccann/MLProjects/alpaca_practice')\n",
    "api_keys = json.load(open('apikey.json', 'r'))"
   ]
  },
  {
   "cell_type": "code",
   "execution_count": null,
   "id": "46dfc0e8-f462-4eb6-8459-c54a211478b7",
   "metadata": {},
   "outputs": [],
   "source": [
    "# Historical data functions\n",
    "def get_bar_data(api_keys, url, symbols, start='', end='', limit=1000, timeframe='1Day'):\n",
    "    list_of_dfs = []\n",
    "    \n",
    "    for symbol in symbols:\n",
    "        headers = {\n",
    "            \"accept\": \"application/json\",\n",
    "            \"APCA-API-KEY-ID\": api_keys['APCA-API-KEY-ID'],\n",
    "            \"APCA-API-SECRET-KEY\":  api_keys['APCA-API-SECRET-KEY']\n",
    "        }\n",
    "        \n",
    "        params = {'symbols': symbol, \n",
    "              'timeframe':timeframe, \n",
    "              'start':start, \n",
    "              'end': end,\n",
    "              'limit': limit}\n",
    "    \n",
    "        response = requests.get(url, headers=headers, params=params)\n",
    "    \n",
    "        data = response.json()\n",
    "    \n",
    "        df = pd.DataFrame(data['bars'][symbol])\n",
    "        df.columns = ['close', 'high', 'low', 'trade_count', 'open', 'time', 'volume', 'volume_weighted_avg']\n",
    "        df['time'] = pd.to_datetime(df['time'])\n",
    "        df['stock_name'] = symbol\n",
    "        df = df[['stock_name'] + [col for col in df.columns if col != 'stock_name']]\n",
    "        df = df[['stock_name', 'time','open', 'close', 'high', 'low', 'trade_count', 'volume', 'volume_weighted_avg']]\n",
    "\n",
    "        list_of_dfs.append(df)\n",
    "\n",
    "    combined_df = pd.concat(list_of_dfs, ignore_index=True)\n",
    "\n",
    "    return combined_df\n",
    "\n",
    "def get_historical_quotes(api_keys, url, symbols, start='', end='', limit=1000):\n",
    "\n",
    "    list_of_dfs = []\n",
    "\n",
    "    for symbol in symbols:\n",
    "        headers = {\n",
    "            \"accept\": \"application/json\",\n",
    "            \"APCA-API-KEY-ID\": api_keys['APCA-API-KEY-ID'],\n",
    "            \"APCA-API-SECRET-KEY\":  api_keys['APCA-API-SECRET-KEY']\n",
    "        }\n",
    "        \n",
    "        params = {'symbols': symbol, \n",
    "              'start':start, \n",
    "              'end': end,\n",
    "              'limit': limit}\n",
    "    \n",
    "        response = requests.get(url, headers=headers, params=params)\n",
    "    \n",
    "        data = response.json()\n",
    "    \n",
    "        df = pd.DataFrame(data['quotes'][symbol])\n",
    "        df.columns = ['ask_price', 'ask_size', 'ask_exchange', 'bid_price', 'bid_size', 'bid_exchange', 'condition_flag', 'timestamp', 'tape']\n",
    "        df['stock_name'] = symbol\n",
    "        df = df[['stock_name'] + [col for col in df.columns if col != 'stock_name']]\n",
    "\n",
    "        list_of_dfs.append(df)\n",
    "\n",
    "    combined_df = pd.concat(list_of_dfs, ignore_index=True)\n",
    "\n",
    "    return combined_df\n",
    "\n",
    "# Latest data functions\n",
    "def get_lastest_bar(api_keys, url, stocks):\n",
    "    headers = {\n",
    "        \"accept\": \"application/json\",\n",
    "        \"APCA-API-KEY-ID\": api_keys['APCA-API-KEY-ID'],\n",
    "        \"APCA-API-SECRET-KEY\":  api_keys['APCA-API-SECRET-KEY']\n",
    "    }\n",
    "\n",
    "    list_of_dfs = []\n",
    "\n",
    "    for stock in stocks:\n",
    "        params = {'symbols': stock}\n",
    "        \n",
    "        response = requests.get(url, headers=headers, params=params)\n",
    "        \n",
    "        data = response.json()\n",
    "    \n",
    "        last_bar_df = pd.DataFrame(data['bars']).T\n",
    "        last_bar_df.columns = ['close', 'high', 'low', 'trade_count', 'open', 'time', 'volume', 'volume_weighted_avg']\n",
    "        last_bar_df['stock_name'] = stock\n",
    "        last_bar_df = last_bar_df[['stock_name'] + [col for col in last_bar_df.columns if col != 'stock_name']]\n",
    "        list_of_dfs.append(last_bar_df)\n",
    "    \n",
    "    combined_df = pd.concat(list_of_dfs, ignore_index=True)\n",
    "\n",
    "    return combined_df"
   ]
  },
  {
   "cell_type": "code",
   "execution_count": null,
   "id": "c82da42c-5a50-4445-a10d-679482f41725",
   "metadata": {},
   "outputs": [],
   "source": [
    "# Get Bar Data"
   ]
  },
  {
   "cell_type": "code",
   "execution_count": null,
   "id": "a839cecc-722e-4af8-b115-7304e570b803",
   "metadata": {},
   "outputs": [],
   "source": [
    "url = \"https://data.alpaca.markets/v2/stocks/bars?\"\n",
    "symbols = ['AMZN', 'TSLA', 'AAPL']\n",
    "start = '2020-01-10'\n",
    "end =  '2024-01-10'\n",
    "\n",
    "get_bar_data(api_keys, url, symbols, start, end)"
   ]
  },
  {
   "cell_type": "code",
   "execution_count": null,
   "id": "e207b6ba-ccbf-40f7-87f2-d8156ccfcafd",
   "metadata": {},
   "outputs": [],
   "source": [
    "#Last Trade"
   ]
  },
  {
   "cell_type": "code",
   "execution_count": null,
   "id": "610c392c-b110-4861-9453-e74c50e5e43e",
   "metadata": {},
   "outputs": [],
   "source": [
    "last_url = \"https://data.alpaca.markets/v2/stocks/bars/latest?\"\n",
    "stocks = ['AMZN', 'TSLA', 'AAPL']\n",
    "\n",
    "get_lastest_bar(api_keys, last_url, stocks)"
   ]
  },
  {
   "cell_type": "code",
   "execution_count": null,
   "id": "b1f4b39d-4632-4a5f-aeab-0de3215480a7",
   "metadata": {},
   "outputs": [],
   "source": [
    "# Historical Quotes"
   ]
  },
  {
   "cell_type": "code",
   "execution_count": null,
   "id": "61983a14-596c-48b3-b3b0-6fdec389fad8",
   "metadata": {},
   "outputs": [],
   "source": [
    "url = \"https://data.alpaca.markets/v2/stocks/quotes?\"\n",
    "# symbols = 'TSLA'\n",
    "symbols = ['AMZN', 'TSLA', 'AAPL']\n",
    "start = '2020-01-10'\n",
    "end =  '2024-01-10'\n",
    "\n",
    "get_historical_quotes(api_keys, url, symbols, start, end)"
   ]
  }
 ],
 "metadata": {
  "kernelspec": {
   "display_name": "Python 3 (ipykernel)",
   "language": "python",
   "name": "python3"
  },
  "language_info": {
   "codemirror_mode": {
    "name": "ipython",
    "version": 3
   },
   "file_extension": ".py",
   "mimetype": "text/x-python",
   "name": "python",
   "nbconvert_exporter": "python",
   "pygments_lexer": "ipython3",
   "version": "3.9.6"
  }
 },
 "nbformat": 4,
 "nbformat_minor": 5
}
