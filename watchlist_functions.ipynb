{
 "cells": [
  {
   "cell_type": "code",
   "execution_count": 1,
   "id": "9a4a6a31-79b2-409a-85de-0d381cf026a3",
   "metadata": {},
   "outputs": [],
   "source": [
    "import requests\n",
    "import os \n",
    "import json\n",
    "import pandas as pd\n",
    "import matplotlib.pyplot as plt\n",
    "import time"
   ]
  },
  {
   "cell_type": "code",
   "execution_count": null,
   "id": "c7ea9933-1b78-4a58-b35f-aca74240bc1b",
   "metadata": {},
   "outputs": [],
   "source": [
    "# Load apikey data\n",
    "\n",
    "os.chdir('/Users/joemccann/MLProjects/alpaca_practice')\n",
    "api_keys = json.load(open('apikey.json', 'r'))"
   ]
  },
  {
   "cell_type": "code",
   "execution_count": null,
   "id": "07f607d4-5d7d-487c-8645-0d8c6b9361fd",
   "metadata": {},
   "outputs": [],
   "source": []
  }
 ],
 "metadata": {
  "kernelspec": {
   "display_name": "Python 3 (ipykernel)",
   "language": "python",
   "name": "python3"
  },
  "language_info": {
   "codemirror_mode": {
    "name": "ipython",
    "version": 3
   },
   "file_extension": ".py",
   "mimetype": "text/x-python",
   "name": "python",
   "nbconvert_exporter": "python",
   "pygments_lexer": "ipython3",
   "version": "3.9.6"
  }
 },
 "nbformat": 4,
 "nbformat_minor": 5
}
