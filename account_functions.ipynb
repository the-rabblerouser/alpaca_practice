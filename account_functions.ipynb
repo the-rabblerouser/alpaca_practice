{
 "cells": [
  {
   "cell_type": "code",
   "execution_count": null,
   "id": "63fffa77-a836-428c-a758-a6ce2803b9f8",
   "metadata": {},
   "outputs": [],
   "source": [
    "import requests\n",
    "import os \n",
    "import json\n",
    "import pandas as pd\n",
    "import matplotlib.pyplot as plt\n",
    "import time"
   ]
  },
  {
   "cell_type": "code",
   "execution_count": null,
   "id": "a068cf66-cc40-47a7-b6a3-57451cb44b4b",
   "metadata": {},
   "outputs": [],
   "source": [
    "# Load apikey data\n",
    "\n",
    "os.chdir('/Users/joemccann/MLProjects/alpaca_practice')\n",
    "api_keys = json.load(open('apikey.json', 'r'))"
   ]
  },
  {
   "cell_type": "code",
   "execution_count": null,
   "id": "1c47abd4-24c5-498b-8223-efeeb87a7220",
   "metadata": {},
   "outputs": [],
   "source": [
    "def get_account()\n",
    "\n",
    "def get_portfolio_history()\n",
    "\n",
    "def get_account_configs()\n",
    "\n",
    "def update_account_configs()\n",
    "\n",
    "def get_market_calendar()\n",
    "\n",
    "def get_market_clock()"
   ]
  }
 ],
 "metadata": {
  "kernelspec": {
   "display_name": "Python 3 (ipykernel)",
   "language": "python",
   "name": "python3"
  },
  "language_info": {
   "codemirror_mode": {
    "name": "ipython",
    "version": 3
   },
   "file_extension": ".py",
   "mimetype": "text/x-python",
   "name": "python",
   "nbconvert_exporter": "python",
   "pygments_lexer": "ipython3",
   "version": "3.9.6"
  }
 },
 "nbformat": 4,
 "nbformat_minor": 5
}
