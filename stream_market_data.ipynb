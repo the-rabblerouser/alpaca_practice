{
 "cells": [
  {
   "cell_type": "code",
   "execution_count": 1,
   "id": "afc8d94d-2c65-4e67-b4ae-bc43d1598ce1",
   "metadata": {},
   "outputs": [],
   "source": [
    "import websocket\n",
    "import os\n",
    "import json"
   ]
  },
  {
   "cell_type": "code",
   "execution_count": 2,
   "id": "2cf15d1a-885a-4976-a676-336a9e9d72f7",
   "metadata": {},
   "outputs": [],
   "source": [
    "# Load apikey data\n",
    "\n",
    "os.chdir('/Users/joemccann/MLProjects/alpaca_practice')\n",
    "api_keys = json.load(open('apikey.json', 'r'))"
   ]
  },
  {
   "cell_type": "code",
   "execution_count": 5,
   "id": "aba8e9cc-a0c9-4a77-89eb-4d53f325e471",
   "metadata": {},
   "outputs": [],
   "source": [
    "endpoint = 'wss://stream.data.sandbox.alpaca.markets/v2/{feed}'\n",
    "headers = api_keys\n",
    "\n",
    "def on_open(ws, streams):\n",
    "    auth = {\n",
    "        \"action\": \"auth\", \n",
    "        \"key\": headers['APCA-API-KEY-ID'], \"secret\": ['APCA-API-SECRET-KEY'],\n",
    "    }\n",
    "\n",
    "    ws.send(json.dumps(auth))\n",
    "\n",
    "    message = {\n",
    "        \"action\":\"subscribe\",\n",
    "         \"trades\":[\"AAPL\"],\n",
    "         \"quotes\":[\"AMD\",\"CSCO\"],\n",
    "         \"bars\":[\"FB\"]\n",
    "    }\n",
    "\n",
    "    ws.send(json.dumps(message))\n",
    "    \n",
    "def on_message(ws, message):\n",
    "    print(message)"
   ]
  },
  {
   "cell_type": "code",
   "execution_count": null,
   "id": "c7e956fd-a966-42f0-8bb3-0630e4194b28",
   "metadata": {},
   "outputs": [],
   "source": [
    "ws = websocket.WebSocketApp('wss://stream.data.sandbox.alpaca.markets/v2/sip', on_open=on_open, on_message=on_message)\n",
    "ws.run_forever()"
   ]
  },
  {
   "cell_type": "code",
   "execution_count": null,
   "id": "01595f20-fbe3-4abb-8210-1d0d616c6a72",
   "metadata": {},
   "outputs": [],
   "source": []
  }
 ],
 "metadata": {
  "kernelspec": {
   "display_name": "Python 3 (ipykernel)",
   "language": "python",
   "name": "python3"
  },
  "language_info": {
   "codemirror_mode": {
    "name": "ipython",
    "version": 3
   },
   "file_extension": ".py",
   "mimetype": "text/x-python",
   "name": "python",
   "nbconvert_exporter": "python",
   "pygments_lexer": "ipython3",
   "version": "3.9.6"
  }
 },
 "nbformat": 4,
 "nbformat_minor": 5
}
