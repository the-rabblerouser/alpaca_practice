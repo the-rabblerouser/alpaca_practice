{
 "cells": [
  {
   "cell_type": "code",
   "execution_count": 1,
   "id": "c07297c6-d4f9-41be-88a3-e27d8f635e67",
   "metadata": {},
   "outputs": [],
   "source": [
    "import requests\n",
    "import os \n",
    "import json\n",
    "import pandas as pd\n",
    "import matplotlib.pyplot as plt\n",
    "import time"
   ]
  },
  {
   "cell_type": "code",
   "execution_count": 2,
   "id": "a04b0b55-93e6-41d4-a8d2-0901f44f5672",
   "metadata": {},
   "outputs": [],
   "source": [
    "# Load apikey data\n",
    "\n",
    "os.chdir('/Users/joemccann/MLProjects/alpaca_practice')\n",
    "api_keys = json.load(open('apikey.json', 'r'))"
   ]
  },
  {
   "cell_type": "code",
   "execution_count": null,
   "id": "0de4924a-25e5-49d2-9ea6-1ad14b35495f",
   "metadata": {},
   "outputs": [],
   "source": []
  }
 ],
 "metadata": {
  "kernelspec": {
   "display_name": "Python 3 (ipykernel)",
   "language": "python",
   "name": "python3"
  },
  "language_info": {
   "codemirror_mode": {
    "name": "ipython",
    "version": 3
   },
   "file_extension": ".py",
   "mimetype": "text/x-python",
   "name": "python",
   "nbconvert_exporter": "python",
   "pygments_lexer": "ipython3",
   "version": "3.9.6"
  }
 },
 "nbformat": 4,
 "nbformat_minor": 5
}
